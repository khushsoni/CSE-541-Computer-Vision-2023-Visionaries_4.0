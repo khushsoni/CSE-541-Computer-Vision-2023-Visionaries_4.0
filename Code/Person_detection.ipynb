{
  "nbformat": 4,
  "nbformat_minor": 0,
  "metadata": {
    "colab": {
      "provenance": []
    },
    "kernelspec": {
      "name": "python3",
      "display_name": "Python 3"
    },
    "language_info": {
      "name": "python"
    }
  },
  "cells": [
    {
      "cell_type": "code",
      "execution_count": null,
      "metadata": {
        "id": "tATsuVGNPb-O"
      },
      "outputs": [],
      "source": [
        "# installing the ultralytics to use the YOLO\n",
        "!pip install ultralytics"
      ]
    },
    {
      "cell_type": "code",
      "source": [
        "# importing required libraries\n",
        "import os\n",
        "import shutil\n",
        "import random\n",
        "\n",
        "!pip install tqdm --upgrade\n",
        "from tqdm.notebook import tqdm"
      ],
      "metadata": {
        "id": "gUsfKUjuPjaL"
      },
      "execution_count": null,
      "outputs": []
    },
    {
      "cell_type": "code",
      "source": [
        "# connecting to the google drive\n",
        "from google.colab import drive\n",
        "drive.mount('/content/drive')"
      ],
      "metadata": {
        "id": "NgXhtvIFREZM"
      },
      "execution_count": null,
      "outputs": []
    },
    {
      "cell_type": "code",
      "source": [
        "train_path_img = \"./yolo_data/images/train/\"\n",
        "train_path_label = \"./yolo_data/labels/train/\"\n",
        "val_path_img = \"./yolo_data/images/val/\"\n",
        "val_path_label = \"./yolo_data/labels/val/\"\n",
        "test_path = \"./yolo_data/test\""
      ],
      "metadata": {
        "id": "fDypUxlfPmAf"
      },
      "execution_count": null,
      "outputs": []
    },
    {
      "cell_type": "code",
      "source": [
        "'''\n",
        "Split the dataset into train and test and creates the train.txt and test.txt with\n",
        "the respective path of the images in each folder\n",
        "'''\n",
        "\n",
        "def train_test_split(path,neg_path=None, split = 0.2):\n",
        "    print(\"------ PROCESS STARTED -------\")\n",
        "\n",
        "\n",
        "    files = list(set([name[:-4] for name in os.listdir(path)])) ## removing duplicate names i.e. counting only number of images\n",
        "    \n",
        "\n",
        "    print (f\"--- This folder has a total number of {len(files)} images---\")\n",
        "    random.seed(42)\n",
        "    random.shuffle(files)\n",
        "\n",
        "    test_size = int(len(files) * split)\n",
        "    train_size = len(files) - test_size\n",
        "\n",
        "    ## creating required directories\n",
        "\n",
        "    os.makedirs(train_path_img, exist_ok = True)\n",
        "    os.makedirs(train_path_label, exist_ok = True)\n",
        "    os.makedirs(val_path_img, exist_ok = True)\n",
        "    os.makedirs(val_path_label, exist_ok = True)\n",
        "\n",
        "    \n",
        "    # copying images to train folder\n",
        "    for filex in tqdm(files[:train_size]):\n",
        "      if filex == 'classes':\n",
        "          continue\n",
        "      shutil.copy2(path + filex + '.jpg',f\"{train_path_img}/\" + filex + '.jpg' )\n",
        "      shutil.copy2(path + filex + '.txt', f\"{train_path_label}/\" + filex + '.txt')\n",
        "        \n",
        "    \n",
        "\n",
        "    print(f\"------ Training data created with 80% split {len(files[:train_size])} images -------\")\n",
        "    \n",
        "    if neg_path:\n",
        "        neg_images = list(set([name[:-4] for name in os.listdir(neg_path)])) ## removing duplicate names i.e. counting only number of images\n",
        "        for filex in tqdm(neg_images):\n",
        "            shutil.copy2(neg_path+filex+ \".jpg\", f\"{train_path_img}/\" + filex + '.jpg')\n",
        "\n",
        "    # copytin images to validation folder\n",
        "    for filex in tqdm(files[train_size:]):\n",
        "      if filex == 'classes':\n",
        "          continue\n",
        "      # print(\"running\")\n",
        "      shutil.copy2(path + filex + '.jpg', f\"{val_path_img}/\" + filex + '.jpg' )\n",
        "      shutil.copy2(path + filex + '.txt', f\"{val_path_label}/\" + filex + '.txt')\n",
        "\n",
        "# spliting the data into train-test and creating train.txt and test.txt files\n",
        "# train_test_split('/content/drive/MyDrive/custom_notebooks/yolo_data/')\n",
        "\n",
        "# for label_tag\n",
        "train_test_split('/content/drive/MyDrive/yolov8/data/') "
      ],
      "metadata": {
        "id": "0PBH26U5PmJM"
      },
      "execution_count": null,
      "outputs": []
    },
    {
      "cell_type": "code",
      "source": [
        "# training the model using custom dataset\n",
        "!yolo task=detect mode=train model=yolov8s.pt data= data.yaml epochs=25 imgsz=224 plots=True"
      ],
      "metadata": {
        "id": "On-ehNaGRi0F"
      },
      "execution_count": null,
      "outputs": []
    },
    {
      "cell_type": "code",
      "source": [
        "# validating data\n",
        "!yolo task=detect mode=val model=runs/detect/train2/weights/best.pt data=data.yaml"
      ],
      "metadata": {
        "id": "p2BkM_esSvZy"
      },
      "execution_count": null,
      "outputs": []
    },
    {
      "cell_type": "code",
      "source": [
        "# inferencing the model \n",
        "!yolo task=detect mode=predict model=runs/detect/train2/weights/best.pt conf=0.25 source=data/test/images"
      ],
      "metadata": {
        "id": "JJZho6pBTmoL"
      },
      "execution_count": null,
      "outputs": []
    },
    {
      "cell_type": "code",
      "source": [
        "# Testing the video\n",
        "!yolo task=detect mode=predict model=runs/detect/train2/weights/best.pt show=True conf=0.25 source=cvvideo.mp4 save=True "
      ],
      "metadata": {
        "id": "j1XzKajMT9m4"
      },
      "execution_count": null,
      "outputs": []
    }
  ]
}